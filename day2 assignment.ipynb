{
 "cells": [
  {
   "cell_type": "code",
   "execution_count": 1,
   "id": "085e06f4",
   "metadata": {},
   "outputs": [
    {
     "name": "stdout",
     "output_type": "stream",
     "text": [
      "6\n",
      "5\n",
      "3\n"
     ]
    }
   ],
   "source": [
    "# list to access\n",
    "my_list=[4,5,6,3,2]\n",
    "print(my_list[2])\n",
    "print(my_list[1])\n",
    "print(my_list[-2])"
   ]
  },
  {
   "cell_type": "code",
   "execution_count": 2,
   "id": "d77f19a7",
   "metadata": {},
   "outputs": [
    {
     "name": "stdout",
     "output_type": "stream",
     "text": [
      "22\n",
      "5\n",
      "22\n"
     ]
    }
   ],
   "source": [
    "# tuple to access\n",
    "my_tuple=(5,4,33,22,5)\n",
    "print(my_tuple[3])\n",
    "print(my_tuple[4])\n",
    "print(my_tuple[-2])"
   ]
  },
  {
   "cell_type": "code",
   "execution_count": 6,
   "id": "a7008b5c",
   "metadata": {},
   "outputs": [
    {
     "name": "stdout",
     "output_type": "stream",
     "text": [
      "7\n",
      "9\n",
      "3\n"
     ]
    }
   ],
   "source": [
    "# dictionary to access\n",
    "my_dict={3:4,5:7,8:9,4:3,7:5}\n",
    "print(my_dict[5])\n",
    "print(my_dict[8])\n",
    "print(my_dict[4])"
   ]
  },
  {
   "cell_type": "code",
   "execution_count": null,
   "id": "ed092f2e",
   "metadata": {},
   "outputs": [],
   "source": []
  },
  {
   "cell_type": "code",
   "execution_count": null,
   "id": "374984f6",
   "metadata": {},
   "outputs": [],
   "source": []
  }
 ],
 "metadata": {
  "kernelspec": {
   "display_name": "Python 3 (ipykernel)",
   "language": "python",
   "name": "python3"
  },
  "language_info": {
   "codemirror_mode": {
    "name": "ipython",
    "version": 3
   },
   "file_extension": ".py",
   "mimetype": "text/x-python",
   "name": "python",
   "nbconvert_exporter": "python",
   "pygments_lexer": "ipython3",
   "version": "3.11.5"
  }
 },
 "nbformat": 4,
 "nbformat_minor": 5
}
